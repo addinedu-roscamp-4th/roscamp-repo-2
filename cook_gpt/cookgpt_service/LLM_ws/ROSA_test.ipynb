{
 "cells": [
  {
   "cell_type": "code",
   "execution_count": null,
   "id": "f61cad56-982b-462d-b147-fe23ef658d3e",
   "metadata": {},
   "outputs": [],
   "source": [
    "from langchain.agents import tool\n",
    "from rosa import ROSA, RobotSystemPrompts\n",
    "\n",
    "@tool\n",
    "def move_forward(distance: float) -> str:\n",
    "    \"\"\"\n",
    "    Move the robot forward by the specified distance.\n",
    "    \n",
    "    :param distance: The distance to move the robot forward.\n",
    "    \"\"\"\n",
    "    # Your code here ...\n",
    "    return f\"Moving forward by {distance} units.\"\n",
    "\n",
    "prompts = RobotSystemPrompts(\n",
    "    embodiment_and_persona=\"You are a cool robot that can move forward.\"\n",
    ")\n",
    "\n",
    "llm = get_your_llm_here()\n",
    "rosa = ROSA(ros_version=1, llm=llm, tools=[move_forward], prompts=prompts)\n",
    "rosa.invoke(\"Move forward by 2 units.\")"
   ]
  }
 ],
 "metadata": {
  "kernelspec": {
   "display_name": "mycobot",
   "language": "python",
   "name": "python3"
  },
  "language_info": {
   "codemirror_mode": {
    "name": "ipython",
    "version": 3
   },
   "file_extension": ".py",
   "mimetype": "text/x-python",
   "name": "python",
   "nbconvert_exporter": "python",
   "pygments_lexer": "ipython3",
   "version": "3.12.3"
  }
 },
 "nbformat": 4,
 "nbformat_minor": 5
}
