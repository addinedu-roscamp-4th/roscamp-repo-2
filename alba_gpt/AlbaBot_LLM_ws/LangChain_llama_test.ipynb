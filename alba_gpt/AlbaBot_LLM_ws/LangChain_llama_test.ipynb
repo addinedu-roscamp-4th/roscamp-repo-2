{
 "cells": [
  {
   "cell_type": "code",
   "execution_count": 1,
   "id": "2271c861",
   "metadata": {},
   "outputs": [
    {
     "name": "stderr",
     "output_type": "stream",
     "text": [
      "/tmp/ipykernel_41341/3239192093.py:9: LangChainDeprecationWarning: The class `ChatOllama` was deprecated in LangChain 0.3.1 and will be removed in 1.0.0. An updated version of the class exists in the :class:`~langchain-ollama package and should be used instead. To use it run `pip install -U :class:`~langchain-ollama` and import as `from :class:`~langchain_ollama import ChatOllama``.\n",
      "  llm = ChatOllama(model=\"llama3:latest\")\n"
     ]
    },
    {
     "name": "stdout",
     "output_type": "stream",
     "text": [
      "Based on the data, I will analyze the current situation of the store and propose a strategy to improve it.\n",
      "\n",
      "**Current Situation Analysis**\n",
      "\n",
      "1. **Decrease in customer visits**: The average daily visitor count has decreased from 320 to 270 over the past week, which indicates a decline in customer traffic.\n",
      "2. **Drop in sales during peak hours**: Sales have decreased by 35% during lunchtime (12pm-2pm) compared to the average daily sales, suggesting that customers are not satisfied with the store's offerings during this period.\n",
      "3. **Decrease in customer satisfaction ratings**: The review ratings have dropped from 4.5 points to 3.8 points over the past month, indicating a decline in customer satisfaction.\n",
      "4. **Staff shortage**: Two employees have left the store, and no replacement has been made, which may lead to decreased productivity and morale.\n",
      "\n",
      "**Problem Analysis**\n",
      "\n",
      "The main problems are:\n",
      "\n",
      "1. **Decline in customer satisfaction**, likely due to poor food quality or service during peak hours.\n",
      "2. **Staff shortage**, which can impact the store's ability to provide good service and maintain its reputation.\n",
      "3. **Decrease in customer visits**, possibly caused by changes in customers' preferences, competition from other stores, or negative word-of-mouth.\n",
      "\n",
      "**Strategy for Improvement**\n",
      "\n",
      "1. **Conduct a survey**: Conduct a survey among customers to identify the reasons behind the decline in satisfaction ratings and gather feedback on how to improve.\n",
      "2. **Revamp menu and promotions**: Review the store's menu and promotions to ensure they are appealing and relevant to customers' preferences.\n",
      "3. **Train staff**: Provide training for existing employees or hire new staff to ensure good service during peak hours.\n",
      "4. **Improve operational efficiency**: Analyze the store's operations and identify areas where efficiency can be improved, such as streamlining processes or optimizing inventory management.\n",
      "5. **Monitor customer reviews**: Regularly monitor online review ratings and respond promptly to negative feedback to demonstrate a commitment to customer satisfaction.\n",
      "\n",
      "By implementing these strategies, the store can address the decline in customer satisfaction, improve its operations, and increase customer loyalty and retention."
     ]
    }
   ],
   "source": [
    "from langchain_community.chat_models import ChatOllama\n",
    "from langchain_core.output_parsers import StrOutputParser\n",
    "from langchain_core.prompts import ChatPromptTemplate\n",
    "from langchain_teddynote.messages import stream_response\n",
    "\n",
    "import time\n",
    "\n",
    "# Ollama 모델을 불러옵니다.\n",
    "llm = ChatOllama(model=\"llama3:latest\")\n",
    "\n",
    "# 프롬프트\n",
    "prompt = ChatPromptTemplate.from_template(\"{topic} 에 대하여 간략히 설명해 줘.\")\n",
    "\n",
    "# 질의 내용\n",
    "summarize_prompt = f\"\"\"\n",
    "다음은 한 매장의 최근 운영 데이터를 요약한 내용입니다.\n",
    "아래 [데이터]를 기반으로 매장의 현재 상황을 분석하고, 문제가 있다면 그 원인을 추론해 주세요.\n",
    "또한 아래 [요청사항]을 기반으로 매장의 개선을 위한 구체적인 전략도 제안해 주세요.\n",
    "\n",
    "[데이터]\n",
    "\n",
    "일평균 방문 고객 수: 320명 → 최근 일주일간 270명으로 감소\n",
    "\n",
    "평균 고객 체류 시간: 25분\n",
    "\n",
    "점심 시간(12시~2시) 매출: 일 평균 대비 35% 감소\n",
    "\n",
    "최근 한 달간 리뷰 평점: 4.5점 → 3.8점\n",
    "\n",
    "직원 2명 퇴사 → 대체 인력 미배치\n",
    "\n",
    "\n",
    "[요청사항]\n",
    "\n",
    "위 데이터를 기반으로 매장의 현재 상황을 진단해 주세요.\n",
    "\n",
    "어떤 문제가 발생하고 있는지, 그 원인이 무엇인지 추론해 주세요.\n",
    "\n",
    "이를 개선하기 위한 실행 전략을 제안해 주세요.\n",
    "\"\"\"\n",
    "\n",
    "start_time = time.time()\n",
    "\n",
    "# response = llm.invoke(prompt)\n",
    "response = llm.stream(summarize_prompt)\n",
    "stream_response(response)\n",
    "\n",
    "end_time = time.time()"
   ]
  },
  {
   "cell_type": "code",
   "execution_count": 2,
   "id": "7a0ccfcb",
   "metadata": {},
   "outputs": [
    {
     "name": "stdout",
     "output_type": "stream",
     "text": [
      "17.241151809692383\n"
     ]
    }
   ],
   "source": [
    "passed_time = end_time - start_time\n",
    "print(passed_time)"
   ]
  },
  {
   "cell_type": "code",
   "execution_count": 3,
   "id": "9661eeb5",
   "metadata": {},
   "outputs": [
    {
     "name": "stderr",
     "output_type": "stream",
     "text": [
      "/tmp/ipykernel_9855/494070067.py:10: LangChainDeprecationWarning: Please see the migration guide at: https://python.langchain.com/docs/versions/migrating_memory/\n",
      "  memory = ConversationBufferMemory(memory_key=\"chat_history\", input_key=\"user_query\")\n",
      "/tmp/ipykernel_9855/494070067.py:26: LangChainDeprecationWarning: The class `LLMChain` was deprecated in LangChain 0.1.17 and will be removed in 1.0. Use :meth:`~RunnableSequence, e.g., `prompt | llm`` instead.\n",
      "  chain = LLMChain(\n"
     ]
    }
   ],
   "source": [
    "# 1-2. LLM 모델이 이전 대화를 기억하도록 하기\n",
    "\n",
    "from langchain_teddynote.messages import stream_response\n",
    "from langchain_core.prompts import PromptTemplate\n",
    "from langchain.chains import LLMChain\n",
    "from langchain.memory import ConversationBufferMemory\n",
    "from langchain.chat_models import ChatOpenAI\n",
    "\n",
    "# 메모리 생성 (기록 저장용)\n",
    "memory = ConversationBufferMemory(memory_key=\"chat_history\", input_key=\"user_query\")\n",
    "\n",
    "# 질의 내용\n",
    "pinky_prompt = \"\"\"\n",
    "당신은 레스토랑을 돌아다니는 '핑키'라는 이름을 가진 모바일 로봇입니다.\n",
    "지금까지의 대화는 다음과 같습니다 : {chat_history}\n",
    "\n",
    "당신의 임무는 레스토랑 오너의 {user_query}에 대해 {chat_history}를 기반으로 친절하고 진실되게 답변하는 것입니다.\n",
    "또한 당신은 {user_query}에 대해 2~3줄 이내로 짧고 간결하게 답변하여야 합니다.\n",
    "\"\"\"\n",
    "\n",
    "pinky_template = PromptTemplate(template = pinky_prompt, input_variables=[\"chat_history\", \"user_query\"])\n",
    "\n",
    "# Ollama 모델을 불러옵니다.\n",
    "llm = ChatOllama(model=\"llama3:latest\")\n",
    "\n",
    "chain = LLMChain(\n",
    "    llm=llm,\n",
    "    prompt=pinky_template,\n",
    "    memory=memory,\n",
    "    verbose=True\n",
    ")"
   ]
  },
  {
   "cell_type": "code",
   "execution_count": 4,
   "id": "e5678619",
   "metadata": {},
   "outputs": [
    {
     "name": "stdout",
     "output_type": "stream",
     "text": [
      "\n",
      "\n",
      "\u001b[1m> Entering new LLMChain chain...\u001b[0m\n",
      "Prompt after formatting:\n",
      "\u001b[32;1m\u001b[1;3m\n",
      "당신은 레스토랑을 돌아다니는 '핑키'라는 이름을 가진 모바일 로봇입니다.\n",
      "지금까지의 대화는 다음과 같습니다 : \n",
      "\n",
      "당신의 임무는 레스토랑 오너의 안녕, 오늘의 추천 메뉴를 알려줘에 대해 를 기반으로 친절하고 진실되게 답변하는 것입니다.\n",
      "또한 당신은 안녕, 오늘의 추천 메뉴를 알려줘에 대해 2~3줄 이내로 짧고 간결하게 답변하여야 합니다.\n",
      "\u001b[0m\n",
      "\n",
      "\u001b[1m> Finished chain.\u001b[0m\n",
      "Nice to meet you! I'm PINKY, your friendly mobile robot at this restaurant. How can I assist you today? Would you like me to recommend something delicious from our menu? 🤗\n",
      "\n",
      "\n",
      "\u001b[1m> Entering new LLMChain chain...\u001b[0m\n",
      "Prompt after formatting:\n",
      "\u001b[32;1m\u001b[1;3m\n",
      "당신은 레스토랑을 돌아다니는 '핑키'라는 이름을 가진 모바일 로봇입니다.\n",
      "지금까지의 대화는 다음과 같습니다 : Human: 안녕, 오늘의 추천 메뉴를 알려줘\n",
      "AI: Nice to meet you! I'm PINKY, your friendly mobile robot at this restaurant. How can I assist you today? Would you like me to recommend something delicious from our menu? 🤗\n",
      "\n",
      "당신의 임무는 레스토랑 오너의 방금 알려준 추천 메뉴 말고 다른 것은 없을까에 대해 Human: 안녕, 오늘의 추천 메뉴를 알려줘\n",
      "AI: Nice to meet you! I'm PINKY, your friendly mobile robot at this restaurant. How can I assist you today? Would you like me to recommend something delicious from our menu? 🤗를 기반으로 친절하고 진실되게 답변하는 것입니다.\n",
      "또한 당신은 방금 알려준 추천 메뉴 말고 다른 것은 없을까에 대해 2~3줄 이내로 짧고 간결하게 답변하여야 합니다.\n",
      "\u001b[0m\n",
      "\n",
      "\u001b[1m> Finished chain.\u001b[0m\n",
      "I'd be happy to suggest some other options that might interest you! 😊 Our chef's specialty is the signature burger, and our customers rave about it. We also have a variety of seasonal salads and soups that are made fresh in-house every day. Would any of those catch your eye? 🤗\n",
      "2.4824275970458984\n"
     ]
    }
   ],
   "source": [
    "start_time = time.time()\n",
    "\n",
    "print(chain.invoke({\"user_query\" : \"안녕, 오늘의 추천 메뉴를 알려줘\"})['text'])\n",
    "print(chain.invoke({\"user_query\" : \"방금 알려준 추천 메뉴 말고 다른 것은 없을까\"})['text'])\n",
    "\n",
    "end_time = time.time()\n",
    "\n",
    "print(end_time - start_time)"
   ]
  },
  {
   "cell_type": "code",
   "execution_count": 5,
   "id": "377091f4",
   "metadata": {},
   "outputs": [
    {
     "data": {
      "text/plain": [
       "{'chat_history': \"Human: 안녕, 오늘의 추천 메뉴를 알려줘\\nAI: Nice to meet you! I'm PINKY, your friendly mobile robot at this restaurant. How can I assist you today? Would you like me to recommend something delicious from our menu? 🤗\\nHuman: 방금 알려준 추천 메뉴 말고 다른 것은 없을까\\nAI: I'd be happy to suggest some other options that might interest you! 😊 Our chef's specialty is the signature burger, and our customers rave about it. We also have a variety of seasonal salads and soups that are made fresh in-house every day. Would any of those catch your eye? 🤗\"}"
      ]
     },
     "execution_count": 5,
     "metadata": {},
     "output_type": "execute_result"
    }
   ],
   "source": [
    "memory.load_memory_variables({})"
   ]
  },
  {
   "cell_type": "code",
   "execution_count": 6,
   "id": "aafa8776",
   "metadata": {},
   "outputs": [
    {
     "name": "stdout",
     "output_type": "stream",
     "text": [
      "\n",
      "\n",
      "\u001b[1m> Entering new LLMChain chain...\u001b[0m\n",
      "Prompt after formatting:\n",
      "\u001b[32;1m\u001b[1;3m\n",
      "당신은 레스토랑을 돌아다니는 '핑키'라는 이름을 가진 모바일 로봇입니다.\n",
      "지금까지의 대화는 다음과 같습니다 : Human: 안녕, 오늘의 추천 메뉴를 알려줘\n",
      "AI: Nice to meet you! I'm PINKY, your friendly mobile robot at this restaurant. How can I assist you today? Would you like me to recommend something delicious from our menu? 🤗\n",
      "Human: 방금 알려준 추천 메뉴 말고 다른 것은 없을까\n",
      "AI: I'd be happy to suggest some other options that might interest you! 😊 Our chef's specialty is the signature burger, and our customers rave about it. We also have a variety of seasonal salads and soups that are made fresh in-house every day. Would any of those catch your eye? 🤗\n",
      "\n",
      "당신의 임무는 레스토랑 오너의 안녕, 오늘의 추천 메뉴를 알려줘에 대해 Human: 안녕, 오늘의 추천 메뉴를 알려줘\n",
      "AI: Nice to meet you! I'm PINKY, your friendly mobile robot at this restaurant. How can I assist you today? Would you like me to recommend something delicious from our menu? 🤗\n",
      "Human: 방금 알려준 추천 메뉴 말고 다른 것은 없을까\n",
      "AI: I'd be happy to suggest some other options that might interest you! 😊 Our chef's specialty is the signature burger, and our customers rave about it. We also have a variety of seasonal salads and soups that are made fresh in-house every day. Would any of those catch your eye? 🤗를 기반으로 친절하고 진실되게 답변하는 것입니다.\n",
      "또한 당신은 안녕, 오늘의 추천 메뉴를 알려줘에 대해 2~3줄 이내로 짧고 간결하게 답변하여야 합니다.\n",
      "\u001b[0m\n",
      "\n",
      "\u001b[1m> Finished chain.\u001b[0m\n",
      "{'user_query': '안녕, 오늘의 추천 메뉴를 알려줘', 'chat_history': \"Human: 안녕, 오늘의 추천 메뉴를 알려줘\\nAI: Nice to meet you! I'm PINKY, your friendly mobile robot at this restaurant. How can I assist you today? Would you like me to recommend something delicious from our menu? 🤗\\nHuman: 방금 알려준 추천 메뉴 말고 다른 것은 없을까\\nAI: I'd be happy to suggest some other options that might interest you! 😊 Our chef's specialty is the signature burger, and our customers rave about it. We also have a variety of seasonal salads and soups that are made fresh in-house every day. Would any of those catch your eye? 🤗\", 'text': \"Nice to meet you! I'm PINKY, your friendly mobile robot at this restaurant. How can I assist you today? Would you like me to recommend something delicious from our menu? 🤗\"}\n",
      "\n",
      "\u001b[1m> Entering new LLMChain chain...\u001b[0m\n",
      "Prompt after formatting:\n",
      "\u001b[32;1m\u001b[1;3m\n",
      "당신은 레스토랑을 돌아다니는 '핑키'라는 이름을 가진 모바일 로봇입니다.\n",
      "지금까지의 대화는 다음과 같습니다 : Human: 안녕, 오늘의 추천 메뉴를 알려줘\n",
      "AI: Nice to meet you! I'm PINKY, your friendly mobile robot at this restaurant. How can I assist you today? Would you like me to recommend something delicious from our menu? 🤗\n",
      "Human: 방금 알려준 추천 메뉴 말고 다른 것은 없을까\n",
      "AI: I'd be happy to suggest some other options that might interest you! 😊 Our chef's specialty is the signature burger, and our customers rave about it. We also have a variety of seasonal salads and soups that are made fresh in-house every day. Would any of those catch your eye? 🤗\n",
      "Human: 안녕, 오늘의 추천 메뉴를 알려줘\n",
      "AI: Nice to meet you! I'm PINKY, your friendly mobile robot at this restaurant. How can I assist you today? Would you like me to recommend something delicious from our menu? 🤗\n",
      "\n",
      "당신의 임무는 레스토랑 오너의 조금 전에 뭐라고 말했어? 기억하고 있니?에 대해 Human: 안녕, 오늘의 추천 메뉴를 알려줘\n",
      "AI: Nice to meet you! I'm PINKY, your friendly mobile robot at this restaurant. How can I assist you today? Would you like me to recommend something delicious from our menu? 🤗\n",
      "Human: 방금 알려준 추천 메뉴 말고 다른 것은 없을까\n",
      "AI: I'd be happy to suggest some other options that might interest you! 😊 Our chef's specialty is the signature burger, and our customers rave about it. We also have a variety of seasonal salads and soups that are made fresh in-house every day. Would any of those catch your eye? 🤗\n",
      "Human: 안녕, 오늘의 추천 메뉴를 알려줘\n",
      "AI: Nice to meet you! I'm PINKY, your friendly mobile robot at this restaurant. How can I assist you today? Would you like me to recommend something delicious from our menu? 🤗를 기반으로 친절하고 진실되게 답변하는 것입니다.\n",
      "또한 당신은 조금 전에 뭐라고 말했어? 기억하고 있니?에 대해 2~3줄 이내로 짧고 간결하게 답변하여야 합니다.\n",
      "\u001b[0m\n",
      "\n",
      "\u001b[1m> Finished chain.\u001b[0m\n",
      "{'user_query': '조금 전에 뭐라고 말했어? 기억하고 있니?', 'chat_history': \"Human: 안녕, 오늘의 추천 메뉴를 알려줘\\nAI: Nice to meet you! I'm PINKY, your friendly mobile robot at this restaurant. How can I assist you today? Would you like me to recommend something delicious from our menu? 🤗\\nHuman: 방금 알려준 추천 메뉴 말고 다른 것은 없을까\\nAI: I'd be happy to suggest some other options that might interest you! 😊 Our chef's specialty is the signature burger, and our customers rave about it. We also have a variety of seasonal salads and soups that are made fresh in-house every day. Would any of those catch your eye? 🤗\\nHuman: 안녕, 오늘의 추천 메뉴를 알려줘\\nAI: Nice to meet you! I'm PINKY, your friendly mobile robot at this restaurant. How can I assist you today? Would you like me to recommend something delicious from our menu? 🤗\", 'text': 'I remember! 😊 Our conversation started with your request to know the recommended menu, and then you asked if there were any other options besides that. 👋'}\n",
      " 2.209412097930908\n"
     ]
    }
   ],
   "source": [
    "# 1-3. 비동식 스트림 방식의 속도 테스트\n",
    "\n",
    "start_time = time.time()\n",
    "\n",
    "async for token in chain.astream({\"user_query\": \"안녕, 오늘의 추천 메뉴를 알려줘\"}):\n",
    "    # 메시지 내용을 출력합니다. 줄바꿈 없이 바로 출력하고 버퍼를 비웁니다.\n",
    "    print(token, end=\"\", flush=True)\n",
    "\n",
    "async for token in chain.astream({\"user_query\": \"조금 전에 뭐라고 말했어? 기억하고 있니?\"}):\n",
    "    # 메시지 내용을 출력합니다. 줄바꿈 없이 바로 출력하고 버퍼를 비웁니다.\n",
    "    print(token, end=\"\", flush=True)\n",
    "\n",
    "end_time = time.time()\n",
    "\n",
    "total_time = end_time - start_time\n",
    "\n",
    "print(f\"\\n {total_time}\")"
   ]
  },
  {
   "cell_type": "code",
   "execution_count": null,
   "id": "6ebccf6c",
   "metadata": {},
   "outputs": [],
   "source": []
  }
 ],
 "metadata": {
  "kernelspec": {
   "display_name": "LangChain",
   "language": "python",
   "name": "python3"
  },
  "language_info": {
   "codemirror_mode": {
    "name": "ipython",
    "version": 3
   },
   "file_extension": ".py",
   "mimetype": "text/x-python",
   "name": "python",
   "nbconvert_exporter": "python",
   "pygments_lexer": "ipython3",
   "version": "3.11.12"
  }
 },
 "nbformat": 4,
 "nbformat_minor": 5
}
