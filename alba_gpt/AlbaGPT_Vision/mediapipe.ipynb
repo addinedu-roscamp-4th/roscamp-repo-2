{
 "cells": [
  {
   "cell_type": "code",
   "execution_count": 31,
   "id": "c8a308ae",
   "metadata": {},
   "outputs": [
    {
     "name": "stderr",
     "output_type": "stream",
     "text": [
      "I0000 00:00:1746087098.139924  134392 gl_context_egl.cc:85] Successfully initialized EGL. Major : 1 Minor: 5\n",
      "I0000 00:00:1746087098.141137  139776 gl_context.cc:369] GL version: 3.2 (OpenGL ES 3.2 Mesa 24.2.8-1ubuntu1~24.04.1), renderer: Mesa Intel(R) Xe Graphics (TGL GT2)\n"
     ]
    },
    {
     "name": "stdout",
     "output_type": "stream",
     "text": [
      "DetectionResult(detections=[Detection(bounding_box=BoundingBox(origin_x=247, origin_y=233, width=485, height=230), categories=[Category(index=None, score=0.7795138359069824, display_name=None, category_name='bicycle')], keypoints=[]), Detection(bounding_box=BoundingBox(origin_x=511, origin_y=91, width=157, height=170), categories=[Category(index=None, score=0.6191320419311523, display_name=None, category_name='backpack')], keypoints=[])])\n",
      "Detection(bounding_box=BoundingBox(origin_x=247, origin_y=233, width=485, height=230), categories=[Category(index=None, score=0.7795138359069824, display_name=None, category_name='bicycle')], keypoints=[])\n",
      "Detection(bounding_box=BoundingBox(origin_x=511, origin_y=91, width=157, height=170), categories=[Category(index=None, score=0.6191320419311523, display_name=None, category_name='backpack')], keypoints=[])\n"
     ]
    }
   ],
   "source": [
    "import cv2\n",
    "import os\n",
    "import sys\n",
    "import mediapipe as mp\n",
    "import numpy as np\n",
    "\n",
    "from mediapipe.tasks import python\n",
    "from mediapipe.tasks.python import vision\n",
    "\n",
    "# 미디어파이프 디텍터 모델 로드\n",
    "base_options = python.BaseOptions(model_asset_path='./model/efficientdet_lite2.tflite')\n",
    "options = vision.ObjectDetectorOptions(base_options=base_options, score_threshold=0.4, max_results=5, category_allowlist=[\"bicycle\", \"backpack\"])\n",
    "detector = vision.ObjectDetector.create_from_options(options)\n",
    "\n",
    "frame_path = '/home/addinedu/roscamp-repo-2/alba_gpt/AlbaGPT_Vision/test_image/Screenshot from 2025-05-01 17-08-18.png'\n",
    "\n",
    "img = cv2.imread(frame_path)\n",
    "\n",
    "# 디텍터 모델 사용\n",
    "with detector :\n",
    "    # np.array -> Mediapipe Image\n",
    "    mp_image = mp.Image.create_from_file(frame_path)\n",
    "\n",
    "    # 디텍션 수행\n",
    "    results = detector.detect(mp_image)\n",
    "    print(results)\n",
    "\n",
    "    for result in results.detections :\n",
    "        print(result)"
   ]
  },
  {
   "cell_type": "code",
   "execution_count": 2,
   "id": "7dd62205",
   "metadata": {},
   "outputs": [
    {
     "name": "stdout",
     "output_type": "stream",
     "text": [
      "DetectionResult(detections=[Detection(bounding_box=BoundingBox(origin_x=124, origin_y=1, width=333, height=342), categories=[Category(index=None, score=0.9187752604484558, display_name=None, category_name='person')], keypoints=[]), Detection(bounding_box=BoundingBox(origin_x=44, origin_y=234, width=102, height=127), categories=[Category(index=None, score=0.7623087763786316, display_name=None, category_name='chair')], keypoints=[])])\n"
     ]
    }
   ],
   "source": [
    "print(results)"
   ]
  },
  {
   "cell_type": "code",
   "execution_count": null,
   "id": "82764f26",
   "metadata": {},
   "outputs": [
    {
     "name": "stdout",
     "output_type": "stream",
     "text": [
      "[Detection(bounding_box=BoundingBox(origin_x=247, origin_y=233, width=485, height=230), categories=[Category(index=None, score=0.7795138359069824, display_name=None, category_name='bicycle')], keypoints=[]), Detection(bounding_box=BoundingBox(origin_x=511, origin_y=91, width=157, height=170), categories=[Category(index=None, score=0.6191320419311523, display_name=None, category_name='backpack')], keypoints=[])]\n",
      "2\n",
      "Detection(bounding_box=BoundingBox(origin_x=247, origin_y=233, width=485, height=230), categories=[Category(index=None, score=0.7795138359069824, display_name=None, category_name='bicycle')], keypoints=[])\n",
      "485\n",
      "230\n",
      "[Category(index=None, score=0.7795138359069824, display_name=None, category_name='bicycle')]\n",
      "bicycle\n"
     ]
    }
   ],
   "source": [
    "print(results.detections)\n",
    "print(len(results.detections))\n",
    "print(results.detections[0])\n",
    "print(results.detections[0].bounding_box.width)\n",
    "print(results.detections[0].bounding_box.height)\n",
    "print(results.detections[0].categories)\n",
    "print(results.detections[0].categories[0].category_name)"
   ]
  },
  {
   "cell_type": "code",
   "execution_count": null,
   "id": "6d46a476",
   "metadata": {},
   "outputs": [],
   "source": []
  }
 ],
 "metadata": {
  "kernelspec": {
   "display_name": "LangChain",
   "language": "python",
   "name": "python3"
  },
  "language_info": {
   "codemirror_mode": {
    "name": "ipython",
    "version": 3
   },
   "file_extension": ".py",
   "mimetype": "text/x-python",
   "name": "python",
   "nbconvert_exporter": "python",
   "pygments_lexer": "ipython3",
   "version": "3.11.12"
  }
 },
 "nbformat": 4,
 "nbformat_minor": 5
}
